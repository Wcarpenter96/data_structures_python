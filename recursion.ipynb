{
 "metadata": {
  "language_info": {
   "codemirror_mode": {
    "name": "ipython",
    "version": 3
   },
   "file_extension": ".py",
   "mimetype": "text/x-python",
   "name": "python",
   "nbconvert_exporter": "python",
   "pygments_lexer": "ipython3",
   "version": "3.7.4"
  },
  "orig_nbformat": 2,
  "kernelspec": {
   "name": "python374jvsc74a57bd0867700b593c2ec7b38f5d3968922d7bd8156bac4c4904722097aa9373813e182",
   "display_name": "Python 3.7.4 64-bit"
  }
 },
 "nbformat": 4,
 "nbformat_minor": 2,
 "cells": [
  {
   "cell_type": "code",
   "execution_count": 28,
   "metadata": {},
   "outputs": [
    {
     "output_type": "stream",
     "name": "stdout",
     "text": [
      "21\n"
     ]
    }
   ],
   "source": [
    "def find_sum(n):\n",
    "    sum = 0\n",
    "    for i in range(1,n+1):\n",
    "        sum+=i\n",
    "    return sum\n",
    "\n",
    "def find_sum_recursive(n,sum=0):\n",
    "    if n > 0:\n",
    "        return find_sum_recursive(n-1,sum+n)\n",
    "    else:\n",
    "        return sum\n",
    "\n",
    "def find_sum(n):\n",
    "    if n==1:\n",
    "        return 1\n",
    "    return n + find_sum(n-1)\n",
    "\n",
    "if __name__ == '__main__':\n",
    "    print(find_sum(6))"
   ]
  },
  {
   "cell_type": "code",
   "execution_count": 34,
   "metadata": {},
   "outputs": [
    {
     "output_type": "stream",
     "name": "stdout",
     "text": [
      "3\n"
     ]
    }
   ],
   "source": [
    "def fib(n):\n",
    "    if n==1 or n==2 or n==3:\n",
    "        return 1\n",
    "    return fib(n-3)+fib(n-2)\n",
    "\n",
    "if __name__ == '__main__':\n",
    "    print(fib(6))"
   ]
  },
  {
   "cell_type": "code",
   "execution_count": 36,
   "metadata": {},
   "outputs": [
    {
     "output_type": "stream",
     "name": "stdout",
     "text": [
      "100\n"
     ]
    }
   ],
   "source": [
    "class Sales:\n",
    "    def __init__(self,id):\n",
    "        self.id = id\n",
    "        id = 100\n",
    "\n",
    "val = Sales(123)\n",
    "print(val.id)"
   ]
  },
  {
   "cell_type": "code",
   "execution_count": null,
   "metadata": {},
   "outputs": [],
   "source": []
  }
 ]
}