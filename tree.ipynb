{
 "metadata": {
  "language_info": {
   "codemirror_mode": {
    "name": "ipython",
    "version": 3
   },
   "file_extension": ".py",
   "mimetype": "text/x-python",
   "name": "python",
   "nbconvert_exporter": "python",
   "pygments_lexer": "ipython3",
   "version": "3.7.4"
  },
  "orig_nbformat": 2,
  "kernelspec": {
   "name": "python374jvsc74a57bd0867700b593c2ec7b38f5d3968922d7bd8156bac4c4904722097aa9373813e182",
   "display_name": "Python 3.7.4 64-bit"
  }
 },
 "nbformat": 4,
 "nbformat_minor": 2,
 "cells": [
  {
   "cell_type": "code",
   "execution_count": 2,
   "metadata": {},
   "outputs": [],
   "source": [
    "class TreeNode:\n",
    "    def __init__(self,data):\n",
    "        self.data = data\n",
    "        self.children = []\n",
    "        self.parent = None\n",
    "    def add_child(self,child):\n",
    "        child.parent = self\n",
    "        self.children.append(child)\n",
    "\n",
    "\n",
    "def build_product_tree():\n",
    "    root = TreeNode(\"Electronics\")\n",
    "    laptop = TreeNode(\"Laptop\")\n",
    "    root.add_child(laptop) \n",
    "    return root\n",
    "\n",
    "if __name__ == '__main__':\n",
    "    root = build_product_tree()\n",
    "    "
   ]
  },
  {
   "cell_type": "code",
   "execution_count": 3,
   "metadata": {},
   "outputs": [
    {
     "output_type": "execute_result",
     "data": {
      "text/plain": [
       "<__main__.TreeNode at 0x111208890>"
      ]
     },
     "metadata": {},
     "execution_count": 3
    }
   ],
   "source": [
    "root"
   ]
  },
  {
   "cell_type": "code",
   "execution_count": 18,
   "metadata": {},
   "outputs": [
    {
     "output_type": "stream",
     "name": "stdout",
     "text": [
      "[3, 4, 6, 7.5, 59, 91, 92, 98, 170, 177]\nTrue\n"
     ]
    }
   ],
   "source": [
    "# binary search tree\n",
    "# breadth first search\n",
    "# depth first search\n",
    "## in order\n",
    "## pre order\n",
    "## post order\n",
    "\n",
    "class BinarySearchTreeNode:\n",
    "    def __init__(self,data):\n",
    "        self.data = data\n",
    "        self.left = None\n",
    "        self.right = None\n",
    "\n",
    "    def add_child(self,data):\n",
    "        if data == self.data:\n",
    "            return \n",
    "        if data < self.data:\n",
    "            # add data in left subtree \n",
    "            if self.left:\n",
    "                self.left.add_child(data)\n",
    "            else:\n",
    "                self.left = BinarySearchTreeNode(data)\n",
    "        else:\n",
    "            # add data in right subtree\n",
    "            if self.right:\n",
    "                self.right.add_child(data)\n",
    "            else:\n",
    "                self.right = BinarySearchTreeNode(data)\n",
    "    \n",
    "    def in_order_traversal(self):\n",
    "        elements = []\n",
    "\n",
    "        # visit left tree\n",
    "        if self.left:\n",
    "            elements += self.left.in_order_traversal()\n",
    "\n",
    "        # visit base node\n",
    "        elements.append(self.data)\n",
    "\n",
    "        # visit right tree\n",
    "        if self.right:\n",
    "            elements += self.right.in_order_traversal()\n",
    "\n",
    "        return elements\n",
    "\n",
    "\n",
    "    def search(self,val):\n",
    "        if self.data == val:\n",
    "            return True\n",
    "        if val < self.data:\n",
    "            if self.left:\n",
    "                return self.left.search(val)\n",
    "            else:\n",
    "                return False\n",
    "\n",
    "        if val > self.data:\n",
    "            if self.right:\n",
    "                return self.right.search(val)\n",
    "            else:\n",
    "                return False\n",
    "        \n",
    "\n",
    "def build_tree(elements):\n",
    "    root = BinarySearchTreeNode(elements[0])\n",
    "    for i in range(1,len(elements)):\n",
    "        root.add_child(elements[i])\n",
    "    return root\n",
    "\n",
    "if __name__ == '__main__':\n",
    "    numbers = [177,92,3,4,59,6,7.5,98,91,170]\n",
    "    tree = build_tree(numbers)\n",
    "    print(tree.in_order_traversal())\n",
    "    print(tree.search(3))"
   ]
  },
  {
   "cell_type": "code",
   "execution_count": null,
   "metadata": {},
   "outputs": [],
   "source": []
  }
 ]
}